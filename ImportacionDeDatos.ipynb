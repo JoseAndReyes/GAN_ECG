{
  "cells": [
    {
      "cell_type": "markdown",
      "metadata": {
        "id": "cVJA5UejuyvW"
      },
      "source": [
        "##Preparativos"
      ]
    },
    {
      "cell_type": "code",
      "execution_count": null,
      "metadata": {
        "id": "0IgSS-IkTR5K"
      },
      "outputs": [],
      "source": [
        "!pip install --q wfdb"
      ]
    },
    {
      "cell_type": "code",
      "execution_count": null,
      "metadata": {
        "id": "gRq9rrIIT_Kj"
      },
      "outputs": [],
      "source": [
        "import wfdb\n",
        "import pandas as pd\n",
        "import numpy as np\n",
        "import matplotlib.pyplot as plt\n",
        "import seaborn as sns\n",
        "from dask import delayed\n",
        "from numba import jit\n",
        "from google.colab import drive"
      ]
    },
    {
      "cell_type": "code",
      "execution_count": null,
      "metadata": {
        "colab": {
          "base_uri": "https://localhost:8080/"
        },
        "id": "-wGiKBC0Uc6b",
        "outputId": "6c01dabf-c9a8-477b-908d-519f419503bb"
      },
      "outputs": [
        {
          "output_type": "stream",
          "name": "stdout",
          "text": [
            "Drive already mounted at /content/drive; to attempt to forcibly remount, call drive.mount(\"/content/drive\", force_remount=True).\n"
          ]
        }
      ],
      "source": [
        "drive.mount('/content/drive')"
      ]
    },
    {
      "cell_type": "markdown",
      "metadata": {
        "id": "QTt093Tdurtl"
      },
      "source": [
        "### Crear Dataframe"
      ]
    },
    {
      "cell_type": "markdown",
      "metadata": {
        "id": "Rg6Owpbzu5rQ"
      },
      "source": [
        "Para esta prueba solo se van a importar datos de la primera derivada, sin razón en particular."
      ]
    },
    {
      "cell_type": "code",
      "execution_count": null,
      "metadata": {
        "id": "_TcbWrO7vgdV"
      },
      "outputs": [],
      "source": [
        "def recover(path,derivative=0):\n",
        "  #La función recover devuelve un array para la derivada indicada. Las derivadas estan 0 indexed.\n",
        "  record = wfdb.rdsamp(path, channels=[derivative])\n",
        "  record = record[0].T #Por ahora se toma solo los datos, no la metainfo\n",
        "  return record\n",
        "\n",
        "@jit #Prueba con numba para mayor velocidad\n",
        "def stick(a,b):\n",
        "  a = np.concatenate((a,b),axis=0)\n",
        "  return a"
      ]
    },
    {
      "cell_type": "code",
      "source": [
        "@delayed  \n",
        "def create_array(Arreglo, start_point, derivada=0):\n",
        "\n",
        "  for i in range(start_point, start_point+1000):\n",
        "    full_number = (5 - len(str(i)))*'0'+str(i)\n",
        "    start_point = (5 - len(str(start_point)))*'0'+str(start_point)\n",
        "    \n",
        "    if (int(full_number)!=0) and (int(full_number)<21838): #Malas practicas?\n",
        "      query = '/content/drive/MyDrive/ISB/Datos/records100/{}/{}_lr'.format(start_point,full_number)\n",
        "      record = recover(query,derivada)\n",
        "      Arreglo = stick(Arreglo,record)\n",
        "    \n",
        "  return Arreglo\n"
      ],
      "metadata": {
        "id": "73Hahwsey1K6"
      },
      "execution_count": null,
      "outputs": []
    },
    {
      "cell_type": "markdown",
      "metadata": {
        "id": "oIZc66pBxHd9"
      },
      "source": [
        "Algoritmo de extracción"
      ]
    },
    {
      "cell_type": "code",
      "execution_count": null,
      "metadata": {
        "id": "OOb4f1rRuQnL"
      },
      "outputs": [],
      "source": [
        "fs=100\n",
        "tiempo = np.arange(1000)*(1/fs) #Tiempo, La frecuencia de sampleo es 100, también se podría haber trabajado con los datos de frecuencia de sampleo  en 500.\n",
        "#Me parecen muchos datos (1000 vs 5000) a mi, por lo que no lo considero\n",
        "tiempo = tiempo.reshape(1,-1)\n",
        "derivada = 0 # 0 equivale a la primera derivada, esta indexada en modo python"
      ]
    },
    {
      "cell_type": "code",
      "source": [
        "DELAYED_VSTACK = delayed(np.vstack)"
      ],
      "metadata": {
        "id": "3Ska7mC5z7lG"
      },
      "execution_count": null,
      "outputs": []
    },
    {
      "cell_type": "code",
      "source": [
        "#Inicializar arreglos\n",
        "lista_de_arreglos = [np.zeros((1,1000)) for i in range(22)]"
      ],
      "metadata": {
        "id": "7Tw5WIJZ1RzC"
      },
      "execution_count": null,
      "outputs": []
    },
    {
      "cell_type": "code",
      "source": [
        "#PROGRAMACIÓN EN PARALELO\n",
        "#CUIDADO CON CORRER\n",
        "for i,k in enumerate(lista_de_arreglos):\n",
        "  lista_de_arreglos[i] = create_array(k,i*1000)\n",
        "\n",
        "final_array = DELAYED_VSTACK(lista_de_arreglos).compute()"
      ],
      "metadata": {
        "id": "h59wcM3j1YOI"
      },
      "execution_count": null,
      "outputs": []
    },
    {
      "cell_type": "code",
      "execution_count": null,
      "metadata": {
        "colab": {
          "base_uri": "https://localhost:8080/",
          "height": 70
        },
        "id": "U2kUUul5y94Z",
        "outputId": "dbf32991-fe97-48c2-f314-fbfbeab903a1"
      },
      "outputs": [
        {
          "output_type": "execute_result",
          "data": {
            "text/plain": [
              "'\\nOPERACIÓN SECUENCIALN NO CORRER:\\n\\nstart = \\'00000\\'\\n\\nfor i in range(1,21838):#Hay 21837 datos, range termina en uno menos\\n  full_number = (5 - len(str(i)))*\\'0\\'+str(i)\\n\\n  if i%1000 == 0:\\n    start = (5 - len(str(i)))*\\'0\\'+str(i) #Autocorrección del Start\\n\\n  query = \\'/content/drive/MyDrive/ISB/Datos/records100/{}/{}_lr\\'.format(start,full_number)\\n  record = recover(query,derivada)\\n  #datos = np.concatenate((datos,record),axis=0)\\n  datos = stick(datos,record)\\n  print(\"Archivo N°: \",i)\\n'"
            ],
            "application/vnd.google.colaboratory.intrinsic+json": {
              "type": "string"
            }
          },
          "metadata": {},
          "execution_count": 91
        }
      ],
      "source": [
        "'''\n",
        "OPERACIÓN SECUENCIALN NO CORRER:\n",
        "\n",
        "start = '00000'\n",
        "\n",
        "for i in range(1,21838):#Hay 21837 datos, range termina en uno menos\n",
        "  full_number = (5 - len(str(i)))*'0'+str(i)\n",
        "\n",
        "  if i%1000 == 0:\n",
        "    start = (5 - len(str(i)))*'0'+str(i) #Autocorrección del Start\n",
        "\n",
        "  query = '/content/drive/MyDrive/ISB/Datos/records100/{}/{}_lr'.format(start,full_number)\n",
        "  record = recover(query,derivada)\n",
        "  #datos = np.concatenate((datos,record),axis=0)\n",
        "  datos = stick(datos,record)\n",
        "  print(\"Archivo N°: \",i)\n",
        "'''"
      ]
    },
    {
      "cell_type": "markdown",
      "source": [
        "Conversión a pandas y csv"
      ],
      "metadata": {
        "id": "76Ncv-CjkBhc"
      }
    },
    {
      "cell_type": "code",
      "source": [
        "df = pd.DataFrame(final_array,columns=tiempo[0])\n",
        "#Se obtienen los datos que no son 0 (Pertenecientes a la inicialización con np.zeros)\n",
        "df=df[df.sum(axis=1)!=0]\n",
        "#Se tiene una serie temporal donde las columnas equivalen al tiempo"
      ],
      "metadata": {
        "id": "rT73jKP8kI2B"
      },
      "execution_count": null,
      "outputs": []
    },
    {
      "cell_type": "code",
      "source": [
        "df.head()"
      ],
      "metadata": {
        "colab": {
          "base_uri": "https://localhost:8080/",
          "height": 236
        },
        "id": "PJvy83F-khfQ",
        "outputId": "07e142e7-f1ad-4f18-9bb5-772b1a3576f9"
      },
      "execution_count": null,
      "outputs": [
        {
          "output_type": "execute_result",
          "data": {
            "text/plain": [
              "    0.00   0.01   0.02   0.03   0.04   0.05   0.06   0.07   0.08   0.09  ...  \\\n",
              "1 -0.119 -0.116 -0.120 -0.117 -0.103 -0.097 -0.119 -0.096 -0.048 -0.037  ...   \n",
              "2  0.004 -0.020 -0.053 -0.056 -0.062 -0.065 -0.061 -0.061 -0.064 -0.061  ...   \n",
              "3 -0.029 -0.035 -0.054 -0.078 -0.088 -0.022  0.346  0.784  0.426 -0.076  ...   \n",
              "4 -0.054 -0.053 -0.063 -0.060 -0.050 -0.054 -0.059 -0.058 -0.054 -0.051  ...   \n",
              "5 -0.034 -0.038 -0.057 -0.066 -0.080 -0.085 -0.058 -0.061 -0.068 -0.065  ...   \n",
              "\n",
              "    9.90   9.91   9.92   9.93   9.94   9.95   9.96   9.97   9.98   9.99  \n",
              "1  0.198  0.194  0.115  0.107  0.107  0.106  0.090  0.069  0.086  0.022  \n",
              "2 -0.035 -0.045  0.004  0.044  0.507  0.554  0.316  0.121 -0.326 -0.348  \n",
              "3 -0.040 -0.051 -0.026 -0.032 -0.052 -0.039 -0.034 -0.029 -0.048 -0.049  \n",
              "4 -0.312 -0.511 -0.280 -0.076 -0.012  0.001 -0.003  0.026  0.026  0.028  \n",
              "5  0.005  0.001  0.003  0.013  0.018 -0.001  0.007  0.000 -0.003 -0.012  \n",
              "\n",
              "[5 rows x 1000 columns]"
            ],
            "text/html": [
              "\n",
              "  <div id=\"df-200d5380-9ab0-432e-b897-98f4d428d600\">\n",
              "    <div class=\"colab-df-container\">\n",
              "      <div>\n",
              "<style scoped>\n",
              "    .dataframe tbody tr th:only-of-type {\n",
              "        vertical-align: middle;\n",
              "    }\n",
              "\n",
              "    .dataframe tbody tr th {\n",
              "        vertical-align: top;\n",
              "    }\n",
              "\n",
              "    .dataframe thead th {\n",
              "        text-align: right;\n",
              "    }\n",
              "</style>\n",
              "<table border=\"1\" class=\"dataframe\">\n",
              "  <thead>\n",
              "    <tr style=\"text-align: right;\">\n",
              "      <th></th>\n",
              "      <th>0.00</th>\n",
              "      <th>0.01</th>\n",
              "      <th>0.02</th>\n",
              "      <th>0.03</th>\n",
              "      <th>0.04</th>\n",
              "      <th>0.05</th>\n",
              "      <th>0.06</th>\n",
              "      <th>0.07</th>\n",
              "      <th>0.08</th>\n",
              "      <th>0.09</th>\n",
              "      <th>...</th>\n",
              "      <th>9.90</th>\n",
              "      <th>9.91</th>\n",
              "      <th>9.92</th>\n",
              "      <th>9.93</th>\n",
              "      <th>9.94</th>\n",
              "      <th>9.95</th>\n",
              "      <th>9.96</th>\n",
              "      <th>9.97</th>\n",
              "      <th>9.98</th>\n",
              "      <th>9.99</th>\n",
              "    </tr>\n",
              "  </thead>\n",
              "  <tbody>\n",
              "    <tr>\n",
              "      <th>1</th>\n",
              "      <td>-0.119</td>\n",
              "      <td>-0.116</td>\n",
              "      <td>-0.120</td>\n",
              "      <td>-0.117</td>\n",
              "      <td>-0.103</td>\n",
              "      <td>-0.097</td>\n",
              "      <td>-0.119</td>\n",
              "      <td>-0.096</td>\n",
              "      <td>-0.048</td>\n",
              "      <td>-0.037</td>\n",
              "      <td>...</td>\n",
              "      <td>0.198</td>\n",
              "      <td>0.194</td>\n",
              "      <td>0.115</td>\n",
              "      <td>0.107</td>\n",
              "      <td>0.107</td>\n",
              "      <td>0.106</td>\n",
              "      <td>0.090</td>\n",
              "      <td>0.069</td>\n",
              "      <td>0.086</td>\n",
              "      <td>0.022</td>\n",
              "    </tr>\n",
              "    <tr>\n",
              "      <th>2</th>\n",
              "      <td>0.004</td>\n",
              "      <td>-0.020</td>\n",
              "      <td>-0.053</td>\n",
              "      <td>-0.056</td>\n",
              "      <td>-0.062</td>\n",
              "      <td>-0.065</td>\n",
              "      <td>-0.061</td>\n",
              "      <td>-0.061</td>\n",
              "      <td>-0.064</td>\n",
              "      <td>-0.061</td>\n",
              "      <td>...</td>\n",
              "      <td>-0.035</td>\n",
              "      <td>-0.045</td>\n",
              "      <td>0.004</td>\n",
              "      <td>0.044</td>\n",
              "      <td>0.507</td>\n",
              "      <td>0.554</td>\n",
              "      <td>0.316</td>\n",
              "      <td>0.121</td>\n",
              "      <td>-0.326</td>\n",
              "      <td>-0.348</td>\n",
              "    </tr>\n",
              "    <tr>\n",
              "      <th>3</th>\n",
              "      <td>-0.029</td>\n",
              "      <td>-0.035</td>\n",
              "      <td>-0.054</td>\n",
              "      <td>-0.078</td>\n",
              "      <td>-0.088</td>\n",
              "      <td>-0.022</td>\n",
              "      <td>0.346</td>\n",
              "      <td>0.784</td>\n",
              "      <td>0.426</td>\n",
              "      <td>-0.076</td>\n",
              "      <td>...</td>\n",
              "      <td>-0.040</td>\n",
              "      <td>-0.051</td>\n",
              "      <td>-0.026</td>\n",
              "      <td>-0.032</td>\n",
              "      <td>-0.052</td>\n",
              "      <td>-0.039</td>\n",
              "      <td>-0.034</td>\n",
              "      <td>-0.029</td>\n",
              "      <td>-0.048</td>\n",
              "      <td>-0.049</td>\n",
              "    </tr>\n",
              "    <tr>\n",
              "      <th>4</th>\n",
              "      <td>-0.054</td>\n",
              "      <td>-0.053</td>\n",
              "      <td>-0.063</td>\n",
              "      <td>-0.060</td>\n",
              "      <td>-0.050</td>\n",
              "      <td>-0.054</td>\n",
              "      <td>-0.059</td>\n",
              "      <td>-0.058</td>\n",
              "      <td>-0.054</td>\n",
              "      <td>-0.051</td>\n",
              "      <td>...</td>\n",
              "      <td>-0.312</td>\n",
              "      <td>-0.511</td>\n",
              "      <td>-0.280</td>\n",
              "      <td>-0.076</td>\n",
              "      <td>-0.012</td>\n",
              "      <td>0.001</td>\n",
              "      <td>-0.003</td>\n",
              "      <td>0.026</td>\n",
              "      <td>0.026</td>\n",
              "      <td>0.028</td>\n",
              "    </tr>\n",
              "    <tr>\n",
              "      <th>5</th>\n",
              "      <td>-0.034</td>\n",
              "      <td>-0.038</td>\n",
              "      <td>-0.057</td>\n",
              "      <td>-0.066</td>\n",
              "      <td>-0.080</td>\n",
              "      <td>-0.085</td>\n",
              "      <td>-0.058</td>\n",
              "      <td>-0.061</td>\n",
              "      <td>-0.068</td>\n",
              "      <td>-0.065</td>\n",
              "      <td>...</td>\n",
              "      <td>0.005</td>\n",
              "      <td>0.001</td>\n",
              "      <td>0.003</td>\n",
              "      <td>0.013</td>\n",
              "      <td>0.018</td>\n",
              "      <td>-0.001</td>\n",
              "      <td>0.007</td>\n",
              "      <td>0.000</td>\n",
              "      <td>-0.003</td>\n",
              "      <td>-0.012</td>\n",
              "    </tr>\n",
              "  </tbody>\n",
              "</table>\n",
              "<p>5 rows × 1000 columns</p>\n",
              "</div>\n",
              "      <button class=\"colab-df-convert\" onclick=\"convertToInteractive('df-200d5380-9ab0-432e-b897-98f4d428d600')\"\n",
              "              title=\"Convert this dataframe to an interactive table.\"\n",
              "              style=\"display:none;\">\n",
              "        \n",
              "  <svg xmlns=\"http://www.w3.org/2000/svg\" height=\"24px\"viewBox=\"0 0 24 24\"\n",
              "       width=\"24px\">\n",
              "    <path d=\"M0 0h24v24H0V0z\" fill=\"none\"/>\n",
              "    <path d=\"M18.56 5.44l.94 2.06.94-2.06 2.06-.94-2.06-.94-.94-2.06-.94 2.06-2.06.94zm-11 1L8.5 8.5l.94-2.06 2.06-.94-2.06-.94L8.5 2.5l-.94 2.06-2.06.94zm10 10l.94 2.06.94-2.06 2.06-.94-2.06-.94-.94-2.06-.94 2.06-2.06.94z\"/><path d=\"M17.41 7.96l-1.37-1.37c-.4-.4-.92-.59-1.43-.59-.52 0-1.04.2-1.43.59L10.3 9.45l-7.72 7.72c-.78.78-.78 2.05 0 2.83L4 21.41c.39.39.9.59 1.41.59.51 0 1.02-.2 1.41-.59l7.78-7.78 2.81-2.81c.8-.78.8-2.07 0-2.86zM5.41 20L4 18.59l7.72-7.72 1.47 1.35L5.41 20z\"/>\n",
              "  </svg>\n",
              "      </button>\n",
              "      \n",
              "  <style>\n",
              "    .colab-df-container {\n",
              "      display:flex;\n",
              "      flex-wrap:wrap;\n",
              "      gap: 12px;\n",
              "    }\n",
              "\n",
              "    .colab-df-convert {\n",
              "      background-color: #E8F0FE;\n",
              "      border: none;\n",
              "      border-radius: 50%;\n",
              "      cursor: pointer;\n",
              "      display: none;\n",
              "      fill: #1967D2;\n",
              "      height: 32px;\n",
              "      padding: 0 0 0 0;\n",
              "      width: 32px;\n",
              "    }\n",
              "\n",
              "    .colab-df-convert:hover {\n",
              "      background-color: #E2EBFA;\n",
              "      box-shadow: 0px 1px 2px rgba(60, 64, 67, 0.3), 0px 1px 3px 1px rgba(60, 64, 67, 0.15);\n",
              "      fill: #174EA6;\n",
              "    }\n",
              "\n",
              "    [theme=dark] .colab-df-convert {\n",
              "      background-color: #3B4455;\n",
              "      fill: #D2E3FC;\n",
              "    }\n",
              "\n",
              "    [theme=dark] .colab-df-convert:hover {\n",
              "      background-color: #434B5C;\n",
              "      box-shadow: 0px 1px 3px 1px rgba(0, 0, 0, 0.15);\n",
              "      filter: drop-shadow(0px 1px 2px rgba(0, 0, 0, 0.3));\n",
              "      fill: #FFFFFF;\n",
              "    }\n",
              "  </style>\n",
              "\n",
              "      <script>\n",
              "        const buttonEl =\n",
              "          document.querySelector('#df-200d5380-9ab0-432e-b897-98f4d428d600 button.colab-df-convert');\n",
              "        buttonEl.style.display =\n",
              "          google.colab.kernel.accessAllowed ? 'block' : 'none';\n",
              "\n",
              "        async function convertToInteractive(key) {\n",
              "          const element = document.querySelector('#df-200d5380-9ab0-432e-b897-98f4d428d600');\n",
              "          const dataTable =\n",
              "            await google.colab.kernel.invokeFunction('convertToInteractive',\n",
              "                                                     [key], {});\n",
              "          if (!dataTable) return;\n",
              "\n",
              "          const docLinkHtml = 'Like what you see? Visit the ' +\n",
              "            '<a target=\"_blank\" href=https://colab.research.google.com/notebooks/data_table.ipynb>data table notebook</a>'\n",
              "            + ' to learn more about interactive tables.';\n",
              "          element.innerHTML = '';\n",
              "          dataTable['output_type'] = 'display_data';\n",
              "          await google.colab.output.renderOutput(dataTable, element);\n",
              "          const docLink = document.createElement('div');\n",
              "          docLink.innerHTML = docLinkHtml;\n",
              "          element.appendChild(docLink);\n",
              "        }\n",
              "      </script>\n",
              "    </div>\n",
              "  </div>\n",
              "  "
            ]
          },
          "metadata": {},
          "execution_count": 111
        }
      ]
    },
    {
      "cell_type": "markdown",
      "source": [
        "Se exporta a csv para futuros usos"
      ],
      "metadata": {
        "id": "GBEj6ae8lwWn"
      }
    },
    {
      "cell_type": "code",
      "source": [
        "df.to_csv('DatosDerivada{}.csv'.format(derivada+1),header=True,index=False)"
      ],
      "metadata": {
        "id": "PC_q3iZJl1Ce"
      },
      "execution_count": null,
      "outputs": []
    }
  ],
  "metadata": {
    "colab": {
      "provenance": []
    },
    "kernelspec": {
      "display_name": "Python 3",
      "name": "python3"
    },
    "language_info": {
      "name": "python"
    }
  },
  "nbformat": 4,
  "nbformat_minor": 0
}